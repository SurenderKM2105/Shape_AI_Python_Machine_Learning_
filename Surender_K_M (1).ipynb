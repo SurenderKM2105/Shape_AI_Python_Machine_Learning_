{
  "nbformat": 4,
  "nbformat_minor": 0,
  "metadata": {
    "colab": {
      "name": "Surender K M.ipynb",
      "provenance": [],
      "collapsed_sections": []
    },
    "kernelspec": {
      "name": "python3",
      "display_name": "Python 3"
    },
    "language_info": {
      "name": "python"
    }
  },
  "cells": [
    {
      "cell_type": "code",
      "metadata": {
        "id": "iHRUAySpK2D5"
      },
      "source": [
        "import numpy as np\n",
        "import pandas as pn\n",
        "import sklearn \n"
      ],
      "execution_count": 14,
      "outputs": []
    },
    {
      "cell_type": "code",
      "metadata": {
        "colab": {
          "base_uri": "https://localhost:8080/"
        },
        "id": "aTBkK_1jN3Z0",
        "outputId": "a712f256-d3d6-4935-b810-c059cd33722e"
      },
      "source": [
        "from sklearn.datasets import load_boston\n",
        "from sklearn.model_selection import train_test_split    \n",
        "from sklearn.linear_model import LinearRegression      \n",
        "from sklearn.metrics import mean_squared_error\n",
        "Dic=load_boston()\n",
        "print('WELCOME TO SHAPE AI PROJECT ')\n",
        "print(\"\\nBoston Data's Dictionary Keys {} \\n\".format(Dic.keys()))\n",
        "DF=pn.DataFrame(Dic.data,columns=Dic.feature_names)\n",
        "print('Boston Dataframe :  ',DF.head())\n",
        "print('\\n Verification \\n',DF.isnull().sum())\n",
        "DF['Target']=Dic.target\n",
        "X=DF.drop('Target',axis=1)\n",
        "Y=DF['Target']\n",
        "X_Train,X_Test,Y_Train,Y_Test=train_test_split(X,Y,test_size=0.15,random_state=5)\n",
        "print(\"\\n\\nX_Train.shape : {}\\nX_Test.shape : {}\\nY_Train.shape : {}\\nY_Test.shape : {}\".format(X_Train.shape,X_Test.shape,Y_Train.shape,Y_Test.shape))\n",
        "\n",
        "ML_Model=LinearRegression()\n",
        "ML_Model.fit(X_Train,Y_Train)\n",
        "Y_Train_Predict=ML_Model.predict(X_Train)\n",
        "error1=(np.sqrt(mean_squared_error(Y_Train,Y_Train_Predict)))\n",
        "Y_Test_Predict=ML_Model.predict(X_Test)\n",
        "error2=(np.sqrt(mean_squared_error(Y_Test,Y_Test_Predict)))\n",
        "print(\"\\nThe Model performed on the Training set :\",error1,\"\\nThe Model performed on the Testing set : \",error2)"
      ],
      "execution_count": 13,
      "outputs": [
        {
          "output_type": "stream",
          "text": [
            "WELCOME TO SHAPE AI PROJECT \n",
            "\n",
            "Boston Data's Dictionary Keys dict_keys(['data', 'target', 'feature_names', 'DESCR', 'filename']) \n",
            "\n",
            "Boston Dataframe :         CRIM    ZN  INDUS  CHAS    NOX  ...  RAD    TAX  PTRATIO       B  LSTAT\n",
            "0  0.00632  18.0   2.31   0.0  0.538  ...  1.0  296.0     15.3  396.90   4.98\n",
            "1  0.02731   0.0   7.07   0.0  0.469  ...  2.0  242.0     17.8  396.90   9.14\n",
            "2  0.02729   0.0   7.07   0.0  0.469  ...  2.0  242.0     17.8  392.83   4.03\n",
            "3  0.03237   0.0   2.18   0.0  0.458  ...  3.0  222.0     18.7  394.63   2.94\n",
            "4  0.06905   0.0   2.18   0.0  0.458  ...  3.0  222.0     18.7  396.90   5.33\n",
            "\n",
            "[5 rows x 13 columns]\n",
            "\n",
            " Verification \n",
            " CRIM       0\n",
            "ZN         0\n",
            "INDUS      0\n",
            "CHAS       0\n",
            "NOX        0\n",
            "RM         0\n",
            "AGE        0\n",
            "DIS        0\n",
            "RAD        0\n",
            "TAX        0\n",
            "PTRATIO    0\n",
            "B          0\n",
            "LSTAT      0\n",
            "dtype: int64\n",
            "\n",
            "\n",
            "X_Train.shape : (430, 13)\n",
            "X_Test.shape : (76, 13)\n",
            "Y_Train.shape : (430,)\n",
            "Y_Test.shape : (76,)\n",
            "\n",
            "The Model performed on the Training set : 4.710901797319796 \n",
            "The Model performed on the Testing set :  4.687543527902972\n"
          ],
          "name": "stdout"
        }
      ]
    }
  ]
}